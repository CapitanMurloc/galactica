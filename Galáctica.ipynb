{
  "nbformat": 4,
  "nbformat_minor": 0,
  "metadata": {
    "colab": {
      "provenance": [],
      "machine_shape": "hm",
      "authorship_tag": "ABX9TyM7d9B2pRBQ/8kpKzhBPF3S",
      "include_colab_link": true
    },
    "kernelspec": {
      "name": "python3",
      "display_name": "Python 3"
    },
    "language_info": {
      "name": "python"
    },
    "accelerator": "TPU",
    "gpuClass": "premium"
  },
  "cells": [
    {
      "cell_type": "markdown",
      "metadata": {
        "id": "view-in-github",
        "colab_type": "text"
      },
      "source": [
        "<a href=\"https://colab.research.google.com/github/CapitanMurloc/galactica/blob/develop/Gal%C3%A1ctica.ipynb\" target=\"_parent\"><img src=\"https://colab.research.google.com/assets/colab-badge.svg\" alt=\"Open In Colab\"/></a>"
      ]
    },
    {
      "cell_type": "code",
      "source": [
        "!nvidia-smi"
      ],
      "metadata": {
        "colab": {
          "base_uri": "https://localhost:8080/"
        },
        "id": "onjG-KJiWK9s",
        "outputId": "91295c05-5060-4d81-a5ba-c0159a4f81b8"
      },
      "execution_count": 1,
      "outputs": [
        {
          "output_type": "stream",
          "name": "stdout",
          "text": [
            "NVIDIA-SMI has failed because it couldn't communicate with the NVIDIA driver. Make sure that the latest NVIDIA driver is installed and running.\n",
            "\n"
          ]
        }
      ]
    },
    {
      "cell_type": "code",
      "source": [
        "from google.colab import drive\n",
        "drive.mount(\"/content/drive\")\n",
        "#/content/drive/MyDrive/galactica\n"
      ],
      "metadata": {
        "colab": {
          "base_uri": "https://localhost:8080/"
        },
        "id": "VV_1T-6E-ejR",
        "outputId": "95d83755-153a-4067-a52d-e3e7df4a3907"
      },
      "execution_count": 1,
      "outputs": [
        {
          "output_type": "stream",
          "name": "stdout",
          "text": [
            "Drive already mounted at /content/drive; to attempt to forcibly remount, call drive.mount(\"/content/drive\", force_remount=True).\n"
          ]
        }
      ]
    },
    {
      "cell_type": "code",
      "source": [
        "%cd /content/drive/MyDrive/galactica\n",
        "#!mkdir .cache\n",
        "%env HF_HOME=/content/drive/MyDrive/galactica/.cache"
      ],
      "metadata": {
        "colab": {
          "base_uri": "https://localhost:8080/"
        },
        "id": "yb01ueaRcPh5",
        "outputId": "c0c7932f-1abe-49d2-e488-ff11bd29c48e"
      },
      "execution_count": 3,
      "outputs": [
        {
          "output_type": "stream",
          "name": "stdout",
          "text": [
            "/content/drive/MyDrive/galactica\n",
            "env: HF_HOME=/content/drive/MyDrive/galactica/.cache\n"
          ]
        }
      ]
    },
    {
      "cell_type": "code",
      "execution_count": 4,
      "metadata": {
        "colab": {
          "base_uri": "https://localhost:8080/"
        },
        "id": "5nx19ug81Kfy",
        "outputId": "9485ba98-4ec5-4dda-ca69-678f6acf00f2"
      },
      "outputs": [
        {
          "output_type": "stream",
          "name": "stdout",
          "text": [
            "\u001b[K     |████████████████████████████████| 62.5 MB 1.2 MB/s \n",
            "\u001b[K     |████████████████████████████████| 175 kB 5.4 MB/s \n",
            "\u001b[K     |████████████████████████████████| 5.5 MB 5.0 MB/s \n",
            "\u001b[K     |████████████████████████████████| 7.6 MB 57.8 MB/s \n",
            "\u001b[K     |████████████████████████████████| 182 kB 63.4 MB/s \n",
            "\u001b[?25h"
          ]
        }
      ],
      "source": [
        "!pip install -q bitsandbytes \n",
        "!pip install -q accelerate\n",
        "!pip install -q transformers"
      ]
    },
    {
      "cell_type": "code",
      "source": [
        "from transformers import AutoTokenizer, AutoModelForCausalLM\n",
        "\n",
        "tokenizer = AutoTokenizer.from_pretrained(\"facebook/galactica-1.3b\")\n",
        "model = AutoModelForCausalLM.from_pretrained(\"facebook/galactica-1.3b\")\n",
        "\n",
        "input_text = \"Sample data from a dataset to enhance GPT-2 in question-answer mode\"\n",
        "input_ids = tokenizer(input_text, return_tensors=\"pt\").input_ids\n",
        "\n",
        "outputs = model.generate(input_ids, max_length=100)\n",
        "print(tokenizer.decode(outputs[0]))"
      ],
      "metadata": {
        "colab": {
          "base_uri": "https://localhost:8080/"
        },
        "id": "cHTjFDCp1cLA",
        "outputId": "d71894f0-2ad6-479e-f82c-2583fac68c6f"
      },
      "execution_count": 8,
      "outputs": [
        {
          "output_type": "stream",
          "name": "stdout",
          "text": [
            "Sample data from a dataset to enhance GPT-2 in question-answer mode.\n",
            "\n",
            "# 4.1.1 Data Collection\n",
            "\n",
            "We collected data from the [SQuAD 2.0](https://rajpurkar.github.io/SQuAD-explorer/) dataset.\n",
            "\n",
            "The SQuAD 2.0 dataset is a collection of 100,000 question-answer pairs.\n",
            "\n",
            "The dataset is split\n"
          ]
        }
      ]
    },
    {
      "cell_type": "code",
      "source": [
        "input_text = tokenizer.decode(outputs[0])\n",
        "print(input_text)\n",
        "input_ids = tokenizer(input_text, return_tensors=\"pt\").input_ids\n",
        "outputs = model.generate(input_ids, max_length=100)\n",
        "print(tokenizer.decode(outputs[0]))"
      ],
      "metadata": {
        "colab": {
          "base_uri": "https://localhost:8080/"
        },
        "id": "SJheKUA97n8q",
        "outputId": "7c683273-5b3b-44c9-8533-bd14d02f6b0f"
      },
      "execution_count": 10,
      "outputs": [
        {
          "output_type": "stream",
          "name": "stderr",
          "text": [
            "Input length of input_ids is 101, but `max_length` is set to 100. This can lead to unexpected behavior. You should consider increasing `max_new_tokens`.\n"
          ]
        },
        {
          "output_type": "stream",
          "name": "stdout",
          "text": [
            "Sample data from a dataset to enhance GPT-2 in question-answer mode.\n",
            "\n",
            "# 4.1.1 Data Collection\n",
            "\n",
            "We collected data from the [SQuAD 2.0](https://rajpurkar.github.io/SQuAD-explorer/) dataset.\n",
            "\n",
            "The SQuAD 2.0 dataset is a collection of 100,000 question-answer pairs.\n",
            "\n",
            "The dataset is split into\n",
            "Sample data from a dataset to enhance GPT-2 in question-answer mode.\n",
            "\n",
            "# 4.1.1 Data Collection\n",
            "\n",
            "We collected data from the [SQuAD 2.0](https://rajpurkar.github.io/SQuAD-explorer/) dataset.\n",
            "\n",
            "The SQuAD 2.0 dataset is a collection of 100,000 question-answer pairs.\n",
            "\n",
            "The dataset is split into \n"
          ]
        }
      ]
    }
  ]
}